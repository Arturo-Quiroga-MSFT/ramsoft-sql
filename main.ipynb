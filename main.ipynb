{
 "cells": [
  {
   "cell_type": "code",
   "execution_count": null,
   "metadata": {},
   "outputs": [],
   "source": [
    "#%pip install pyodbc\n",
    "#%pip install python-dotenv\n",
    "#%pip install streamlit\n",
    "#%pip install sqlalchemy\n",
    "#%pip install langchain\n",
    "%pip install openai"
   ]
  },
  {
   "cell_type": "code",
   "execution_count": null,
   "metadata": {},
   "outputs": [],
   "source": [
    "# Import necessary libraries and modules\n",
    "import os\n",
    "from dotenv import load_dotenv\n",
    "import streamlit as st\n",
    "from sqlalchemy import create_engine\n",
    "from langchain.chat_models import AzureChatOpenAI\n",
    "from langchain.prompts.chat import ChatPromptTemplate\n",
    "from langchain.agents import AgentType, create_sql_agent\n",
    "from langchain.sql_database import SQLDatabase\n",
    "from langchain.agents.agent_toolkits.sql.toolkit import SQLDatabaseToolkit\n"
   ]
  },
  {
   "cell_type": "code",
   "execution_count": null,
   "metadata": {},
   "outputs": [],
   "source": [
    "# Load environment variables from .env file\n",
    "load_dotenv()\n",
    "\n",
    "# Retrieve environment variables using os.getenv\n",
    "OPENAI_API_TYPE = os.getenv(\"OPENAI_API_TYPE\")\n",
    "OPENAI_API_VERSION = os.getenv(\"OPENAI_API_VERSION\")\n",
    "AZURE_OPENAI_ENDPOINT = os.getenv(\"AZURE_OPENAI_ENDPOINT\")\n",
    "AZURE_OPENAI_API_KEY = os.getenv(\"AZURE_OPENAI_API_KEY\")\n",
    "OPENAI_CHAT_MODEL = os.getenv(\"OPENAI_CHAT_MODEL\")\n",
    "SQL_SERVER = os.getenv(\"SQL_SERVER\")\n",
    "SQL_DB = os.getenv(\"SQL_DB\")\n",
    "SQL_USERNAME = os.getenv(\"SQL_USERNAME\")\n",
    "SQL_PWD = os.getenv(\"SQL_PWD\")"
   ]
  },
  {
   "cell_type": "code",
   "execution_count": 5,
   "metadata": {},
   "outputs": [
    {
     "name": "stdout",
     "output_type": "stream",
     "text": [
      "mssql+pyodbc:///?odbc_connect=Driver={ODBC Driver 18 for SQL Server};Server=tcp:aqsqlsvr001.database.windows.net;DATABASE=hospitaldb;Uid=arturoqu;Pwd=@DoNotTryThis.1970!;Encrypt=yes;TrustServerCertificate=yes;Connection Timeout=60;\n"
     ]
    }
   ],
   "source": [
    "# Define the ODBC connection string for the SQL Server database\n",
    "driver = '{ODBC Driver 18 for SQL Server}'\n",
    "odbc_str = 'mssql+pyodbc:///?odbc_connect=' \\\n",
    "                'Driver='+driver+ \\\n",
    "                ';Server=tcp:' + os.getenv(\"SQL_SERVER\") + \\\n",
    "                ';DATABASE=' + os.getenv(\"SQL_DB\") + \\\n",
    "                ';Uid=' + os.getenv(\"SQL_USERNAME\")+ \\\n",
    "                ';Pwd=' + os.getenv(\"SQL_PWD\") + \\\n",
    "                ';Encrypt=yes;TrustServerCertificate=yes;Connection Timeout=60;'\n",
    "\n",
    "# Print the ODBC connection string for debugging purposes\n",
    "print (odbc_str)"
   ]
  },
  {
   "cell_type": "code",
   "execution_count": 6,
   "metadata": {},
   "outputs": [
    {
     "name": "stdout",
     "output_type": "stream",
     "text": [
      "Engine(mssql+pyodbc:///?odbc_connect=Driver%3D%7BODBC+Driver+18+for+SQL+Server%7D%3BServer%3Dtcp%3Aaqsqlsvr001.database.windows.net%3BDATABASE%3Dhospitaldb%3BUid%3Darturoqu%3BPwd%3D%40DoNotTryThis.1970%21%3BEncrypt%3Dyes%3BTrustServerCertificate%3Dyes%3BConnection+Timeout%3D60%3B)\n"
     ]
    }
   ],
   "source": [
    "# Create a SQLAlchemy engine object for the SQL Server database\n",
    "db_engine = create_engine(odbc_str)\n",
    "\n",
    "# print the engine object for debugging purposes\n",
    "print (db_engine)"
   ]
  },
  {
   "cell_type": "code",
   "execution_count": 8,
   "metadata": {},
   "outputs": [
    {
     "name": "stderr",
     "output_type": "stream",
     "text": [
      "/Users/arturoquiroga/autogen-demos/AUTOGEN-STUFF/lib/python3.11/site-packages/langchain_core/_api/deprecation.py:119: LangChainDeprecationWarning: The class `AzureChatOpenAI` was deprecated in LangChain 0.0.10 and will be removed in 0.3.0. An updated version of the class exists in the langchain-openai package and should be used instead. To use it run `pip install -U langchain-openai` and import as `from langchain_openai import AzureChatOpenAI`.\n",
      "  warn_deprecated(\n",
      "/Users/arturoquiroga/autogen-demos/AUTOGEN-STUFF/lib/python3.11/site-packages/langchain_community/chat_models/azure_openai.py:167: UserWarning: As of openai>=1.0.0, Azure endpoints should be specified via the `azure_endpoint` param not `openai_api_base` (or alias `base_url`). Updating `openai_api_base` from https://aq-aoaieastus.openai.azure.com/ to https://aq-aoaieastus.openai.azure.com/openai.\n",
      "  warnings.warn(\n",
      "/Users/arturoquiroga/autogen-demos/AUTOGEN-STUFF/lib/python3.11/site-packages/langchain_community/chat_models/azure_openai.py:174: UserWarning: As of openai>=1.0.0, if `deployment_name` (or alias `azure_deployment`) is specified then `openai_api_base` (or alias `base_url`) should not be. Instead use `deployment_name` (or alias `azure_deployment`) and `azure_endpoint`.\n",
      "  warnings.warn(\n",
      "/Users/arturoquiroga/autogen-demos/AUTOGEN-STUFF/lib/python3.11/site-packages/langchain_community/chat_models/azure_openai.py:182: UserWarning: As of openai>=1.0.0, if `openai_api_base` (or alias `base_url`) is specified it is expected to be of the form https://example-resource.azure.openai.com/openai/deployments/example-deployment. Updating https://aq-aoaieastus.openai.azure.com/ to https://aq-aoaieastus.openai.azure.com/openai.\n",
      "  warnings.warn(\n"
     ]
    }
   ],
   "source": [
    "# Create an Azure OpenAI chatbot object for natural language processing\n",
    "llm = AzureChatOpenAI(model=os.getenv(\"OPENAI_CHAT_MODEL\"),\n",
    "                      deployment_name=os.getenv(\"OPENAI_CHAT_MODEL\"),\n",
    "                      temperature=0)"
   ]
  },
  {
   "cell_type": "code",
   "execution_count": 9,
   "metadata": {},
   "outputs": [],
   "source": [
    "# Create a SQL database agent using the Azure OpenAI chatbot and the SQLDatabaseToolkit\n",
    "db = SQLDatabase(db_engine, schema=\"SalesLT\")\n",
    "sql_toolkit = SQLDatabaseToolkit(db=db, llm=llm)\n",
    "sqldb_agent = create_sql_agent(\n",
    "    llm=llm,\n",
    "    toolkit=sql_toolkit,\n",
    "    agent_type=AgentType.ZERO_SHOT_REACT_DESCRIPTION,\n",
    "    verbose=True\n",
    ")"
   ]
  },
  {
   "cell_type": "code",
   "execution_count": null,
   "metadata": {},
   "outputs": [],
   "source": [
    "#start a dialog with the chatbot\n",
    "chat_prompt = ChatPromptTemplate()\n",
    "chat_prompt.start_dialog(sqldb_agent)\n",
    "\n"
   ]
  },
  {
   "cell_type": "code",
   "execution_count": 10,
   "metadata": {},
   "outputs": [],
   "source": [
    "# Define Streamlit app\n",
    "def app():\n",
    "    # Set the title and logo of the Streamlit app\n",
    "    st.title(\"Arturo's AdventureWorks2023 SQL Query Tool\")\n",
    "    st.image(\"https://biendata.xyz/media/7c92a358-84ff-4d88-b44b-33861780b703_logo.png\", use_column_width=True)\n",
    "    \n",
    "    # Prompt the user to enter a question and provide a text input field\n",
    "    st.write(\"Enter your question below and click 'Submit' to get an answer.\")\n",
    "    question = st.text_input(\"Question:\")\n",
    "    \n",
    "    # When the user clicks the \"Submit\" button, generate a response using the SQL database agent\n",
    "    if st.button(\"Submit\"):\n",
    "        final_prompt = ChatPromptTemplate.from_messages(\n",
    "            [\n",
    "                (\"system\", \n",
    "                 \"\"\"\n",
    "                  You are a helpful AI assistant expert in querying SQL Database to find answers to user's question about Categories, Products and Orders.\n",
    "                 \"\"\"\n",
    "                ),\n",
    "                (\"user\", f\"{question}\\n ai: \"),\n",
    "            ]\n",
    "        )\n",
    "        response = sqldb_agent.run(final_prompt)\n",
    "        \n",
    "        # Display the response in the Streamlit app's output area\n",
    "        st.write(\"Output:\")\n",
    "        st.write(response)"
   ]
  },
  {
   "cell_type": "code",
   "execution_count": 11,
   "metadata": {},
   "outputs": [
    {
     "name": "stderr",
     "output_type": "stream",
     "text": [
      "2024-05-21 12:46:07.177 \n",
      "  \u001b[33m\u001b[1mWarning:\u001b[0m to view this Streamlit app on a browser, run it with the following\n",
      "  command:\n",
      "\n",
      "    streamlit run /Users/arturoquiroga/autogen-demos/AUTOGEN-STUFF/lib/python3.11/site-packages/ipykernel_launcher.py [ARGUMENTS]\n",
      "2024-05-21 12:46:07.192 Session state does not function when running a script without `streamlit run`\n"
     ]
    }
   ],
   "source": [
    "# Run the Streamlit app\n",
    "if __name__ == \"__main__\":\n",
    "    app()\n"
   ]
  }
 ],
 "metadata": {
  "kernelspec": {
   "display_name": "bydo-openai",
   "language": "python",
   "name": "python3"
  },
  "language_info": {
   "codemirror_mode": {
    "name": "ipython",
    "version": 3
   },
   "file_extension": ".py",
   "mimetype": "text/x-python",
   "name": "python",
   "nbconvert_exporter": "python",
   "pygments_lexer": "ipython3",
   "version": "3.11.8"
  }
 },
 "nbformat": 4,
 "nbformat_minor": 2
}
